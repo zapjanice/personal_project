{
 "cells": [
  {
   "cell_type": "code",
   "execution_count": 1,
   "id": "20550a79-d6bc-4c67-8023-f15c58a4a905",
   "metadata": {},
   "outputs": [],
   "source": [
    "import pandas as pd\n",
    "import numpy as np\n",
    "import sqlite3"
   ]
  },
  {
   "cell_type": "code",
   "execution_count": 3,
   "id": "614b7acb-209f-476e-9037-a4c15e38b98b",
   "metadata": {},
   "outputs": [],
   "source": [
    "# conn = sqlite3.connect(\"/kaggle/input/mental-health-in-the-tech-industry/mental_health.sqlite\")\n",
    "# c = conn.cursor()\n",
    "# c.execute(\"SELECT * FROM Answer where SurveyID = 2019 ORDER BY UserID;\")\n",
    "# print(c.fetchall())\n",
    "# c.commit()"
   ]
  },
  {
   "cell_type": "code",
   "execution_count": null,
   "id": "8986f324-2399-4829-b85a-7839e4089a39",
   "metadata": {},
   "outputs": [],
   "source": []
  }
 ],
 "metadata": {
  "kernelspec": {
   "display_name": "Python 3",
   "language": "python",
   "name": "python3"
  },
  "language_info": {
   "codemirror_mode": {
    "name": "ipython",
    "version": 3
   },
   "file_extension": ".py",
   "mimetype": "text/x-python",
   "name": "python",
   "nbconvert_exporter": "python",
   "pygments_lexer": "ipython3",
   "version": "3.8.6"
  }
 },
 "nbformat": 4,
 "nbformat_minor": 5
}
