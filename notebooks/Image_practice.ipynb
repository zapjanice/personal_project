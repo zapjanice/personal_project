{
 "cells": [
  {
   "cell_type": "markdown",
   "metadata": {},
   "source": [
    "This is an assignment on image classfication of 20 labels of cifar-100 dataset.\\\n",
    "This dataset has 20 superclasses with train and test. Please check this link https://www.cs.toronto.edu/~kriz/cifar.html. \\\n",
    "Feel free to use your choice of framework (tensorflow/pytorch, etc)."
   ]
  },
  {
   "cell_type": "markdown",
   "metadata": {},
   "source": [
    "## Task-1:\n",
    "1) Download the cifra-100 dataset for 'coarse' label (20 superclasses) \\\n",
    "2) Print each label (train and test) volume as a dataframe (preparing three columns of class, train, test) \\\n",
    "3) Take one image from each class (20 superclasses) and plot them side-by-side in (4,5)-shape"
   ]
  },
  {
   "cell_type": "markdown",
   "metadata": {},
   "source": [
    "## Task-2:\n",
    "1) Take any computer vision architectures (e.g. VGG, ResNet, whatever you want) and find out the accuracy & f1-score.\\\n",
    "2) Please give your thoughts on the results"
   ]
  },
  {
   "cell_type": "markdown",
   "metadata": {},
   "source": [
    "## Task-3:\n",
    "1) Please explain the regularization techniques used in the architecture you chose (e.g. drop-out technique, etc)\\\n",
    "2) Please briefly give a reason why you chose that architecture."
   ]
  },
  {
   "cell_type": "code",
   "execution_count": null,
   "metadata": {},
   "outputs": [],
   "source": []
  }
 ],
 "metadata": {
  "kernelspec": {
   "display_name": "Python 3",
   "language": "python",
   "name": "python3"
  },
  "language_info": {
   "codemirror_mode": {
    "name": "ipython",
    "version": 3
   },
   "file_extension": ".py",
   "mimetype": "text/x-python",
   "name": "python",
   "nbconvert_exporter": "python",
   "pygments_lexer": "ipython3",
   "version": "3.8.6"
  }
 },
 "nbformat": 4,
 "nbformat_minor": 4
}
