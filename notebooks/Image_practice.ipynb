{
 "cells": [
  {
   "cell_type": "markdown",
   "metadata": {
    "id": "KxE8JxWtvJ4_"
   },
   "source": [
    "## Task-1:\n",
    "1) Download the cifra-100 dataset for 'coarse' label (20 superclasses) \\https://www.cs.toronto.edu/~kriz/cifar.html\n",
    "2) Print each label (train and test) volume as a dataframe (preparing three columns of class, train, test) \\\n",
    "3) Take one image from each class (20 superclasses) and plot them side-by-side in (4,5)-shape"
   ]
  },
  {
   "cell_type": "code",
   "execution_count": 1,
   "metadata": {
    "colab": {
     "base_uri": "https://localhost:8080/"
    },
    "id": "mnUwTiMXCakz",
    "outputId": "dc02b351-aa06-4916-de6b-b51b7dd66255"
   },
   "outputs": [
    {
     "name": "stdout",
     "output_type": "stream",
     "text": [
      "Requirement already satisfied: tensorflow-addons in /home/zapjanice/.pyenv/versions/3.8.6/envs/personal_project/lib/python3.8/site-packages (0.13.0)\n",
      "Requirement already satisfied: typeguard>=2.7 in /home/zapjanice/.pyenv/versions/3.8.6/envs/personal_project/lib/python3.8/site-packages (from tensorflow-addons) (2.12.1)\n"
     ]
    }
   ],
   "source": [
    "!pip install tensorflow-addons"
   ]
  },
  {
   "cell_type": "code",
   "execution_count": 2,
   "metadata": {
    "id": "Gf99UAEJvJ5C"
   },
   "outputs": [],
   "source": [
    "import matplotlib.pyplot as plt\n",
    "import numpy as np\n",
    "import pandas as pd\n",
    "import seaborn as sns\n",
    "from PIL import Image\n",
    "from tensorflow.keras import Sequential, optimizers, layers\n",
    "from tensorflow.keras.layers import Conv2D, MaxPooling2D, Dense, Flatten, Reshape, Activation, Dropout\n",
    "from tensorflow.keras.datasets import cifar100 \n",
    "from tensorflow.keras.utils import to_categorical \n",
    "from tensorflow.keras.callbacks import EarlyStopping\n",
    "from tensorflow.keras.applications.vgg16 import VGG16\n",
    "from tensorflow.keras.applications.resnet50 import ResNet50\n",
    "from tensorflow_addons.metrics import F1Score"
   ]
  },
  {
   "cell_type": "markdown",
   "metadata": {
    "id": "wwP7sElRvJ5E"
   },
   "source": [
    "### Download data"
   ]
  },
  {
   "cell_type": "code",
   "execution_count": 3,
   "metadata": {
    "colab": {
     "base_uri": "https://localhost:8080/"
    },
    "id": "iuKAeBR7vJ5G",
    "outputId": "7061ab5c-d109-43e7-c2cd-fa22a0d1bb45"
   },
   "outputs": [],
   "source": [
    "(x_train, y_train),(x_test, y_test) = cifar100.load_data(label_mode=\"coarse\")"
   ]
  },
  {
   "cell_type": "code",
   "execution_count": 4,
   "metadata": {
    "colab": {
     "base_uri": "https://localhost:8080/"
    },
    "id": "YQ249fKyvJ5H",
    "outputId": "1a1a2ea0-e063-4cf2-b5ab-acb122ce2030"
   },
   "outputs": [
    {
     "data": {
      "text/plain": [
       "(50000, 32, 32, 3)"
      ]
     },
     "execution_count": 4,
     "metadata": {},
     "output_type": "execute_result"
    }
   ],
   "source": [
    "x_train.shape"
   ]
  },
  {
   "cell_type": "code",
   "execution_count": 5,
   "metadata": {
    "colab": {
     "base_uri": "https://localhost:8080/"
    },
    "id": "sxnxCMltvJ5I",
    "outputId": "69a64f10-a54b-44cb-8e9e-0c1c5affcb7f"
   },
   "outputs": [
    {
     "data": {
      "text/plain": [
       "(10000, 32, 32, 3)"
      ]
     },
     "execution_count": 5,
     "metadata": {},
     "output_type": "execute_result"
    }
   ],
   "source": [
    "x_test.shape"
   ]
  },
  {
   "cell_type": "code",
   "execution_count": 6,
   "metadata": {
    "id": "EkU2nrJMvJ5K"
   },
   "outputs": [],
   "source": [
    "x_train = x_train.reshape(50000, 32, 32, 3).astype('float32')\n",
    "\n",
    "x_test = x_test.reshape(10000, 32, 32, 3).astype('float32')\n",
    "\n",
    "# x_train/=255 #normalize data\n",
    "\n",
    "# x_test/=255 #normalize data"
   ]
  },
  {
   "cell_type": "code",
   "execution_count": 7,
   "metadata": {},
   "outputs": [],
   "source": [
    "x_train_mean = np.mean(x_train, axis=(0,1,2))\n",
    "x_train_std = np.std(x_train, axis=(0,1,2))\n",
    "x_train = (x_train - x_train_mean) / x_train_std\n",
    "x_test = (x_test - x_train_mean) / x_train_std"
   ]
  },
  {
   "cell_type": "code",
   "execution_count": 8,
   "metadata": {
    "id": "tAWaS2uPvJ5L"
   },
   "outputs": [],
   "source": [
    "classes = ['aquatic_mammals', 'fish', 'flowers', 'food_containers', 'fruit_and_vegetables', \n",
    "           'household_electrical_devices', 'household_furniture', 'insects', 'large_carnivores', \n",
    "           'large_man-made_outdoor_things', 'large_natural_outdoor_scenes', 'large_omnivores_and_herbivores', \n",
    "           'medium_mammals', 'non-insect_invertebrates', 'people', 'reptiles', 'small_mammals', \n",
    "           'trees', 'vehicles_1', 'vehicles_2']"
   ]
  },
  {
   "cell_type": "code",
   "execution_count": 9,
   "metadata": {},
   "outputs": [
    {
     "name": "stderr",
     "output_type": "stream",
     "text": [
      "/home/zapjanice/.pyenv/versions/3.8.6/envs/personal_project/lib/python3.8/site-packages/seaborn/_decorators.py:36: FutureWarning: Pass the following variable as a keyword arg: x. From version 0.12, the only valid positional argument will be `data`, and passing other arguments without an explicit keyword will result in an error or misinterpretation.\n",
      "  warnings.warn(\n",
      "/home/zapjanice/.pyenv/versions/3.8.6/envs/personal_project/lib/python3.8/site-packages/seaborn/_decorators.py:36: FutureWarning: Pass the following variable as a keyword arg: x. From version 0.12, the only valid positional argument will be `data`, and passing other arguments without an explicit keyword will result in an error or misinterpretation.\n",
      "  warnings.warn(\n"
     ]
    },
    {
     "data": {
      "image/png": "[encoded data removed]",
      "text/plain": [
       "<Figure size 1080x360 with 2 Axes>"
      ]
     },
     "metadata": {
      "needs_background": "light"
     },
     "output_type": "display_data"
    }
   ],
   "source": [
    "fig, axs = plt.subplots(1,2,figsize=(15,5)) \n",
    "# Count plot for training set\n",
    "sns.countplot(y_train.ravel(), ax=axs[0])\n",
    "axs[0].set_title('Distribution of training data')\n",
    "axs[0].set_xlabel('Classes')\n",
    "# Count plot for testing set\n",
    "sns.countplot(y_test.ravel(), ax=axs[1])\n",
    "axs[1].set_title('Distribution of Testing data')\n",
    "axs[1].set_xlabel('Classes')\n",
    "plt.show()"
   ]
  },
  {
   "cell_type": "markdown",
   "metadata": {
    "id": "iwantTdYvJ5M"
   },
   "source": [
    "### Put into dataframe"
   ]
  },
  {
   "cell_type": "code",
   "execution_count": 10,
   "metadata": {
    "id": "HK0j5jcuvJ5M"
   },
   "outputs": [],
   "source": [
    "train_no = (50000*32*32)\n",
    "test_no = (10000*32*32)\n",
    "train_arr = np.reshape(x_train, (train_no, 3))\n",
    "train_df = pd.DataFrame(train_arr)\n",
    "test_arr = np.reshape(x_test, (test_no, 3))\n",
    "test_df = pd.DataFrame(test_arr)"
   ]
  },
  {
   "cell_type": "code",
   "execution_count": 11,
   "metadata": {
    "id": "Mtv1gG7MvJ5N"
   },
   "outputs": [],
   "source": [
    "y_train_df = pd.DataFrame(y_train)\n",
    "y_test_df = pd.DataFrame(y_test)"
   ]
  },
  {
   "cell_type": "markdown",
   "metadata": {
    "id": "4qitR3XvvJ5N"
   },
   "source": [
    "### Plot unique class images"
   ]
  },
  {
   "cell_type": "code",
   "execution_count": 12,
   "metadata": {
    "id": "cRG67UBMvJ5O"
   },
   "outputs": [],
   "source": [
    "x_list = []\n",
    "y_list = []\n",
    "def unique_image(x, y):\n",
    "    u, indices = np.unique(y, return_index=True)\n",
    "    for number in indices:\n",
    "        x_list.append(x[number])\n",
    "        y_list.append(y[number])"
   ]
  },
  {
   "cell_type": "code",
   "execution_count": 13,
   "metadata": {
    "id": "8Ez122T5vJ5O"
   },
   "outputs": [],
   "source": [
    "unique_image(x_train, y_train)"
   ]
  },
  {
   "cell_type": "code",
   "execution_count": 14,
   "metadata": {
    "colab": {
     "base_uri": "https://localhost:8080/",
     "height": 567
    },
    "id": "KxY4shiDvJ5P",
    "outputId": "1676244a-505e-4a3d-c463-b5be59af1ab4"
   },
   "outputs": [
    {
     "name": "stderr",
     "output_type": "stream",
     "text": [
      "Clipping input data to the valid range for imshow with RGB data ([0..1] for floats or [0..255] for integers).\n",
      "Clipping input data to the valid range for imshow with RGB data ([0..1] for floats or [0..255] for integers).\n",
      "Clipping input data to the valid range for imshow with RGB data ([0..1] for floats or [0..255] for integers).\n",
      "Clipping input data to the valid range for imshow with RGB data ([0..1] for floats or [0..255] for integers).\n",
      "Clipping input data to the valid range for imshow with RGB data ([0..1] for floats or [0..255] for integers).\n",
      "Clipping input data to the valid range for imshow with RGB data ([0..1] for floats or [0..255] for integers).\n",
      "Clipping input data to the valid range for imshow with RGB data ([0..1] for floats or [0..255] for integers).\n",
      "Clipping input data to the valid range for imshow with RGB data ([0..1] for floats or [0..255] for integers).\n",
      "Clipping input data to the valid range for imshow with RGB data ([0..1] for floats or [0..255] for integers).\n",
      "Clipping input data to the valid range for imshow with RGB data ([0..1] for floats or [0..255] for integers).\n",
      "Clipping input data to the valid range for imshow with RGB data ([0..1] for floats or [0..255] for integers).\n",
      "Clipping input data to the valid range for imshow with RGB data ([0..1] for floats or [0..255] for integers).\n",
      "Clipping input data to the valid range for imshow with RGB data ([0..1] for floats or [0..255] for integers).\n",
      "Clipping input data to the valid range for imshow with RGB data ([0..1] for floats or [0..255] for integers).\n",
      "Clipping input data to the valid range for imshow with RGB data ([0..1] for floats or [0..255] for integers).\n",
      "Clipping input data to the valid range for imshow with RGB data ([0..1] for floats or [0..255] for integers).\n",
      "Clipping input data to the valid range for imshow with RGB data ([0..1] for floats or [0..255] for integers).\n",
      "Clipping input data to the valid range for imshow with RGB data ([0..1] for floats or [0..255] for integers).\n",
      "Clipping input data to the valid range for imshow with RGB data ([0..1] for floats or [0..255] for integers).\n",
      "Clipping input data to the valid range for imshow with RGB data ([0..1] for floats or [0..255] for integers).\n"
     ]
    },
    {
     "data": {
      "image/png": "[encoded data removed]",
      "text/plain": [
       "<Figure size 864x720 with 20 Axes>"
      ]
     },
     "metadata": {},
     "output_type": "display_data"
    }
   ],
   "source": [
    "plt.figure(figsize=(12,10))\n",
    "for image in range(0,20):\n",
    "    i=image\n",
    "    plt.subplot(4,5,i+1)\n",
    "    plt.xticks([])\n",
    "    plt.yticks([])\n",
    "    plt.grid(False)\n",
    "    j=i+0\n",
    "    data_plot = x_list[j]\n",
    "    plt.imshow(data_plot)\n",
    "    plt.xlabel(classes[y_list[j].item()])\n",
    "    plt.tight_layout()\n",
    "plt.show()"
   ]
  },
  {
   "cell_type": "markdown",
   "metadata": {},
   "source": [
    "##### Picture comments\n",
    "The picture of non-insect_invertebrates and reptiles seem to be a drawing. \n",
    "<br> The image of the tree is black and white\n",
    "<br> Vehicle 1 and vehicle 2 looks similar and might be hard to distinguish. "
   ]
  },
  {
   "cell_type": "code",
   "execution_count": 15,
   "metadata": {},
   "outputs": [],
   "source": [
    "# img = Image.open(r\"C:\\Users\\System-Pc\\Desktop\\tree.jpg\")\n",
    "# r, g, b = img.split()\n",
    "# len(r.histogram())\n",
    "# ### 256 ###\n",
    "  \n",
    "# r.histogram()"
   ]
  },
  {
   "cell_type": "markdown",
   "metadata": {
    "id": "PCZlGCfTvJ5P"
   },
   "source": [
    "## Task-2:\n",
    "1) Take any computer vision architectures (e.g. VGG, ResNet, whatever you want) and find out the accuracy & f1-score.\\\n",
    "2) Please give your thoughts on the results"
   ]
  },
  {
   "cell_type": "code",
   "execution_count": 16,
   "metadata": {
    "id": "tCwK78LC0iBQ"
   },
   "outputs": [],
   "source": [
    "y_train = to_categorical(y_train, num_classes=20)\n",
    "y_test = to_categorical(y_test, num_classes=20)\n",
    "#change shape of y_train/test"
   ]
  },
  {
   "cell_type": "markdown",
   "metadata": {},
   "source": [
    "### Using model VGG16"
   ]
  },
  {
   "cell_type": "code",
   "execution_count": null,
   "metadata": {
    "colab": {
     "base_uri": "https://localhost:8080/"
    },
    "id": "NkhV6mkcvJ5Q",
    "outputId": "765f196a-8e3f-47c2-81cf-03ce8484807b",
    "tags": []
   },
   "outputs": [
    {
     "name": "stdout",
     "output_type": "stream",
     "text": [
      "Epoch 1/40\n"
     ]
    },
    {
     "name": "stderr",
     "output_type": "stream",
     "text": [
      "/home/zapjanice/.pyenv/versions/3.8.6/envs/personal_project/lib/python3.8/site-packages/tensorflow/python/keras/metrics.py:254: UserWarning: Metric F1Score implements a `reset_states()` method; rename it to `reset_state()` (without the final \"s\"). The name `reset_states()` has been deprecated to improve API consistency.\n",
      "  warnings.warn('Metric %s implements a `reset_states()` method; rename it '\n"
     ]
    },
    {
     "name": "stdout",
     "output_type": "stream",
     "text": [
      "274/274 - 1604s - loss: 3.0135 - accuracy: 0.0494 - f1_score: 0.0298 - val_loss: 2.9964 - val_accuracy: 0.0494 - val_f1_score: 0.0047\n",
      "Epoch 2/40\n",
      "274/274 - 5555s - loss: 2.9960 - accuracy: 0.0485 - f1_score: 0.0244 - val_loss: 2.9960 - val_accuracy: 0.0467 - val_f1_score: 0.0045\n",
      "Epoch 3/40\n",
      "274/274 - 2096s - loss: 2.9958 - accuracy: 0.0506 - f1_score: 0.0091 - val_loss: 2.9961 - val_accuracy: 0.0467 - val_f1_score: 0.0045\n",
      "Epoch 4/40\n",
      "274/274 - 1989s - loss: 2.9958 - accuracy: 0.0495 - f1_score: 0.0152 - val_loss: 2.9962 - val_accuracy: 0.0467 - val_f1_score: 0.0045\n",
      "Epoch 5/40\n"
     ]
    }
   ],
   "source": [
    "model_vgg = VGG16(weights=None, classes=len(classes), input_shape=(32, 32, 3))\n",
    "\n",
    "model_vgg.compile(loss='categorical_crossentropy', optimizer='adam', metrics=['accuracy', F1Score(num_classes=20, average='macro')])\n",
    "\n",
    "history_vgg = model_vgg.fit(x=x_train, y=y_train, batch_size=128, epochs=40, verbose=2,  callbacks=EarlyStopping(patience=5), validation_split=0.3, shuffle=True)"
   ]
  },
  {
   "cell_type": "code",
   "execution_count": null,
   "metadata": {
    "colab": {
     "base_uri": "https://localhost:8080/"
    },
    "id": "rf_6D9lMJbLs",
    "outputId": "d808ec43-84e2-4633-8e75-e0d48a1917fb"
   },
   "outputs": [],
   "source": [
    "res_vgg = model_vgg.evaluate(x_test, y_test, verbose=2)\n",
    "\n",
    "print(f'The accuracy is of {res_vgg[1]*100:.3f}% compared to a chance level of {1./20*100} %')"
   ]
  },
  {
   "cell_type": "markdown",
   "metadata": {},
   "source": [
    "***\n",
    "##### VGG16: comments\n",
    "The model results for VGG16 is the same as the baseline model of 5%. \n",
    "<br>It is not a good model because the accuracy is about the same as randomly choosing a label. \n",
    "***"
   ]
  },
  {
   "cell_type": "markdown",
   "metadata": {},
   "source": [
    "### Using model resnet"
   ]
  },
  {
   "cell_type": "code",
   "execution_count": null,
   "metadata": {
    "colab": {
     "base_uri": "https://localhost:8080/"
    },
    "id": "FxBviT2LLf1F",
    "outputId": "08623a36-c06e-44f5-8e27-fd8677339101",
    "tags": []
   },
   "outputs": [],
   "source": [
    "model_resnet = ResNet50(weights=None, classes=len(classes), input_shape=(32, 32, 3))\n",
    "\n",
    "model_resnet.compile(loss='categorical_crossentropy', optimizer='adam', metrics=['accuracy', F1Score(num_classes=20, average='macro')])\n",
    "\n",
    "history_resnet = model_resnet.fit(x=x_train, y=y_train, batch_size=64, epochs=40, verbose=2, callbacks=EarlyStopping(patience=20), validation_split=0.3, shuffle=True)"
   ]
  },
  {
   "cell_type": "code",
   "execution_count": null,
   "metadata": {
    "colab": {
     "base_uri": "https://localhost:8080/"
    },
    "id": "MMbPYQeWLe51",
    "outputId": "dac66938-c01c-49dd-88fe-2321a659431d"
   },
   "outputs": [],
   "source": [
    "res_resnet = model_resnet.evaluate(x_test, y_test, verbose=2)\n",
    "\n",
    "print(f'The accuracy is of {res_resnet[1]*100:.3f}% compared to a chance level of {1./20*100} %')"
   ]
  },
  {
   "cell_type": "code",
   "execution_count": null,
   "metadata": {
    "id": "5sOyOGJUQmVI"
   },
   "outputs": [],
   "source": [
    "def plot_history(history, title='', axs=None, exp_name=\"\"):\n",
    "    if axs is not None:\n",
    "        ax1, ax2 = axs\n",
    "    else:\n",
    "        f, (ax1, ax2) = plt.subplots(1, 2, figsize=(12, 4))\n",
    "    \n",
    "    if len(exp_name) > 0 and exp_name[0] != '_':\n",
    "        exp_name = '_' + exp_name\n",
    "    ax1.plot(history.history['loss'], label='train' + exp_name)\n",
    "    ax1.plot(history.history['val_loss'], label='val' + exp_name)\n",
    "    ax1.set_ylim(0., 2.2)\n",
    "    ax1.set_title('loss')\n",
    "    ax1.legend()\n",
    "\n",
    "    ax2.plot(history.history['accuracy'], label='train accuracy'  + exp_name)\n",
    "    ax2.plot(history.history['val_accuracy'], label='val accuracy'  + exp_name)\n",
    "    ax2.set_ylim(0.25, 1.)\n",
    "    ax2.set_title('Accuracy')\n",
    "    ax2.legend()\n",
    "    return (ax1, ax2)"
   ]
  },
  {
   "cell_type": "code",
   "execution_count": null,
   "metadata": {
    "colab": {
     "base_uri": "https://localhost:8080/",
     "height": 281
    },
    "id": "8jKcpNSsQqnC",
    "outputId": "240e5aa1-a4c8-4561-a89d-d09e09f6a41b"
   },
   "outputs": [],
   "source": [
    "plot_history(history_resnet)\n",
    "plt.show()"
   ]
  },
  {
   "cell_type": "markdown",
   "metadata": {
    "id": "jDBJdgTo1Mn-"
   },
   "source": [
    "***\n",
    "##### ResNet model comments\n",
    "The accuracy for the ResNet50 model is **8.8 times** higher than the baseline accuracy. \n",
    "<br> The f1 score which is the harmonic mean of precision and recall has about the same value as the accuracy. \n",
    "\n",
    "When plotting the history of loss and accuracy between the training set and validation set, we can see that the model overfits from about the 15 epoch. \n",
    "<br> - The accuracy is improving on the train set, however the accuracy of the validation set remains the same. \n",
    "<br> - The loss is decreasing on the train set, however, the loss for the validation set remains the same. \n",
    "\n",
    "Solutions: \n",
    "<br>- apply dropout or regularization techniques\n",
    "<br>- train until 15 epochs \n",
    "***"
   ]
  },
  {
   "cell_type": "markdown",
   "metadata": {},
   "source": [
    "### Trying my own model"
   ]
  },
  {
   "cell_type": "code",
   "execution_count": null,
   "metadata": {
    "id": "D7waeoAA0g3B"
   },
   "outputs": [],
   "source": [
    "def initialize_model():\n",
    "    model = Sequential()\n",
    "    model.add(layers.Conv2D(32, (3, 3), activation='relu', padding='same', input_shape=(32, 32, 3))) #create a covolution kernel\n",
    "    model.add(Conv2D(32, (3, 3), activation='relu', padding='same'))\n",
    "    model.add(layers.MaxPooling2D((2, 2))) #take the maximum value over 2,2 window\n",
    "    model.add(layers.Dropout(0.2)) #drop 20% of the input units \n",
    "\n",
    "    model.add(layers.Conv2D(64, (3, 3), activation='relu', padding='same'))\n",
    "    model.add(Conv2D(64, (3, 3), activation='relu', padding='same'))\n",
    "    model.add(layers.MaxPooling2D((2, 2)))\n",
    "    model.add(layers.Dropout(0.2))\n",
    "\n",
    "    model.add(layers.Conv2D(128, (2, 2), activation='relu', padding='same'))\n",
    "    model.add(Conv2D(128, (3, 3), activation='relu', padding='same'))\n",
    "    model.add(layers.Dropout(0.3))\n",
    "    model.add(layers.MaxPooling2D((2, 2)))\n",
    "    \n",
    "    model.add(layers.Flatten())\n",
    "    model.add(layers.Dense(100, activation='relu'))\n",
    "    model.add(layers.Dropout(0.4))\n",
    "    model.add(layers.Dense(20, activation='softmax'))\n",
    "    \n",
    "    return model  "
   ]
  },
  {
   "cell_type": "code",
   "execution_count": null,
   "metadata": {
    "id": "xlhHRXly3uNm"
   },
   "outputs": [],
   "source": [
    "optimizer_01= optimizers.Adam(learning_rate=0.001)\n",
    "\n",
    "def compile_model(model):\n",
    "    model.compile(loss='categorical_crossentropy', #computes the crossentropy loss between labels and prediction.\n",
    "              optimizer=optimizer_01,\n",
    "              metrics=['accuracy', F1Score(num_classes=20, average='macro')])\n",
    "    \n",
    "    return model "
   ]
  },
  {
   "cell_type": "code",
   "execution_count": null,
   "metadata": {
    "colab": {
     "base_uri": "https://localhost:8080/"
    },
    "id": "VBWk_fZz3wBh",
    "outputId": "aaa83bf5-e7fa-49ee-f620-f67d0b38fe44"
   },
   "outputs": [],
   "source": [
    "model = initialize_model()\n",
    "model = compile_model(model)\n",
    "model.summary()"
   ]
  },
  {
   "cell_type": "code",
   "execution_count": null,
   "metadata": {
    "colab": {
     "base_uri": "https://localhost:8080/"
    },
    "id": "w7EBCG0p3u16",
    "outputId": "59bb0fc5-1758-442e-d571-f83df645f7ab",
    "tags": []
   },
   "outputs": [],
   "source": [
    "from tensorflow.keras.callbacks import EarlyStopping\n",
    "\n",
    "model = initialize_model()\n",
    "model = compile_model(model)\n",
    "\n",
    "es = EarlyStopping(patience=30, verbose=2)\n",
    "\n",
    "history = model.fit(x_train, y_train, \n",
    "                    validation_split=0.3,\n",
    "                    callbacks=[es], \n",
    "                    epochs=100, \n",
    "                    batch_size=64)"
   ]
  },
  {
   "cell_type": "code",
   "execution_count": null,
   "metadata": {
    "colab": {
     "base_uri": "https://localhost:8080/",
     "height": 281
    },
    "id": "ZSDBo8NN6sm3",
    "outputId": "ebe8ec8f-ee5a-488e-ae01-c85c4812babc"
   },
   "outputs": [],
   "source": [
    "plot_history(history)\n",
    "plt.show()"
   ]
  },
  {
   "cell_type": "code",
   "execution_count": null,
   "metadata": {
    "colab": {
     "base_uri": "https://localhost:8080/"
    },
    "id": "fCpW2Foh6tGX",
    "outputId": "fa608299-6c53-423c-e8e7-aa6335ac9cac"
   },
   "outputs": [],
   "source": [
    "res = model.evaluate(x_test, y_test, verbose=2)\n",
    "\n",
    "print(f'The accuracy is of {res[1]*100:.3f}% compared to a chance level of {1./20*100} %')"
   ]
  },
  {
   "cell_type": "markdown",
   "metadata": {
    "id": "9p_rbrgf6tji"
   },
   "source": [
    "***\n",
    "##### Own model comments\n",
    "The accuracy for theis model is **11.6 times** higher than the baseline accuracy. \n",
    "\n",
    "When plotting the history of loss and accuracy between the training set and validation set, we can see that the model starts to overfitt after 20 epochs. \n",
    "\n",
    "Solutions:\n",
    "<br>- train until 20 epochs\n",
    "***"
   ]
  },
  {
   "cell_type": "markdown",
   "metadata": {
    "id": "5TGKTgKcvJ5Z"
   },
   "source": [
    "## Task-3:\n",
    "1) Please explain the regularization techniques used in the architecture you chose (e.g. drop-out technique, etc)\\\n",
    "2) Please briefly give a reason why you chose that architecture."
   ]
  },
  {
   "cell_type": "markdown",
   "metadata": {
    "id": "qujBfM7PvJ5Z",
    "tags": []
   },
   "source": [
    "***\n",
    "Regularization techniques: \n",
    "<br> A technique to change the learning algorithm so that it can generalize better and to ultimately improve the model’s performance on unseen data.  \n",
    "\n",
    "Dropout method: \n",
    "<br> - I used this method because it is the most used technique with good results. It helps the learning algorithm generalize better. \n",
    "<br> - For this method, at every iteration nodes are randomly selected and removed along with all of their incoming and outgoing connections.\n",
    "\n",
    "Other regularization methods:\n",
    "<br> 1. L1 & L2 regularization\n",
    "<br> - Apply penalties on layer parameters or layer activity during optimization. Penalties are summed into the loss function that the network optimizes.\n",
    "\n",
    "***"
   ]
  },
  {
   "cell_type": "markdown",
   "metadata": {
    "id": "YhZYHbDwvJ5b"
   },
   "source": [
    "THANK YOU VERY MUCH FOR THIS CHALLENGE! "
   ]
  },
  {
   "cell_type": "code",
   "execution_count": null,
   "metadata": {},
   "outputs": [],
   "source": []
  }
 ],
 "metadata": {
  "accelerator": "GPU",
  "colab": {
   "collapsed_sections": [],
   "name": "Image_practice.ipynb",
   "provenance": []
  },
  "kernelspec": {
   "display_name": "Python 3",
   "language": "python",
   "name": "python3"
  },
  "language_info": {
   "codemirror_mode": {
    "name": "ipython",
    "version": 3
   },
   "file_extension": ".py",
   "mimetype": "text/x-python",
   "name": "python",
   "nbconvert_exporter": "python",
   "pygments_lexer": "ipython3",
   "version": "3.8.6"
  }
 },
 "nbformat": 4,
 "nbformat_minor": 4
}
